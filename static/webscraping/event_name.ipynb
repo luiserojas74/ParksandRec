{
 "cells": [
  {
   "cell_type": "code",
   "execution_count": 1,
   "metadata": {
    "slideshow": {
     "slide_type": "slide"
    }
   },
   "outputs": [],
   "source": [
    "#Import dependencies\n",
    "from bs4 import BeautifulSoup as bs\n",
    "import pandas as pd\n",
    "from splinter import Browser\n",
    "from webdriver_manager.chrome import ChromeDriverManager\n",
    "from flask import Flask, render_template, redirect\n",
    "from config import ppwd"
   ]
  },
  {
   "cell_type": "code",
   "execution_count": 2,
   "metadata": {
    "scrolled": true,
    "slideshow": {
     "slide_type": "fragment"
    }
   },
   "outputs": [
    {
     "name": "stderr",
     "output_type": "stream",
     "text": [
      "[WDM] - ====== WebDriver manager ======\n",
      "[WDM] - Current google-chrome version is 90.0.4430\n",
      "[WDM] - Get LATEST driver version for 90.0.4430\n",
      "[WDM] - Driver [C:\\Users\\ljean\\.wdm\\drivers\\chromedriver\\win32\\90.0.4430.24\\chromedriver.exe] found in cache\n"
     ]
    },
    {
     "name": "stdout",
     "output_type": "stream",
     "text": [
      "\n",
      "\n"
     ]
    }
   ],
   "source": [
    "# Setup splinter\n",
    "executable_path = {'executable_path': ChromeDriverManager().install()}\n",
    "browser = Browser('chrome', **executable_path, headless=False)"
   ]
  },
  {
   "cell_type": "code",
   "execution_count": 3,
   "metadata": {},
   "outputs": [],
   "source": [
    "url = 'https://anc.apm.activecommunities.com/mecklenburgparks/activity/search?onlineSiteId=0&activity_select_param=2&viewMode=list/'\n",
    "browser.visit(url)\n",
    "html = browser.html\n",
    "soup = bs(html, 'html.parser')\n",
    "activities = soup.find_all('div', class_='activity-card-info__name')\n",
    "times = soup.find_all('div', class_='activity-card-info__datetime')"
   ]
  },
  {
   "cell_type": "code",
   "execution_count": 4,
   "metadata": {},
   "outputs": [],
   "source": [
    "events = []\n",
    "\n",
    "for activity in activities:\n",
    "    title = activity .find('h3').text\n",
    "    events.append(title)\n",
    "        "
   ]
  },
  {
   "cell_type": "code",
   "execution_count": 5,
   "metadata": {},
   "outputs": [],
   "source": [
    "for time in times:\n",
    "    dates = time.find('span').text  \n",
    "    events.append(dates)"
   ]
  },
  {
   "cell_type": "code",
   "execution_count": 6,
   "metadata": {},
   "outputs": [
    {
     "data": {
      "text/plain": [
       "['BWRC: Afterschool',\n",
       " 'BWRC: Remote (WEDNESDAYS) Full Day',\n",
       " 'County Employee Fitness Classes (Virtual) Mar 22-May 28 2021',\n",
       " 'ERRC: Intro to Disc Golf',\n",
       " 'ERRC: Parking Lot Pickleball',\n",
       " 'ERRC: Specialty Summer Camp Program 2021',\n",
       " 'SVRC: Flip That Workout',\n",
       " 'SVRC: Senior Trivia and Games',\n",
       " 'SVRC: Southview Senior Outdoor Programs',\n",
       " 'SVRC: Southview Virtual Preschool Programs',\n",
       " 'SVRC: Spring Egg Hunt',\n",
       " 'SVRC: Virtual Family Game Night',\n",
       " 'SVRC: Virtual Zumbini',\n",
       " \"SVRC: What's the Word Wednesdays\",\n",
       " 'TYSC: Table Tennis',\n",
       " 'RCNP: Walk for Wellness',\n",
       " 'RCNP: Walk for Wellness',\n",
       " 'RCNP: Walk for Wellness',\n",
       " 'RCNP: Walk for Wellness',\n",
       " 'RCNP: Walk for Wellness',\n",
       " 'Starts from Mon, Apr 12',\n",
       " 'Starts from Wed, Apr 14',\n",
       " 'Starts from Mon, Mar 22',\n",
       " 'Starts from Mon, Jun 7',\n",
       " 'Starts from Tue, Mar 16',\n",
       " 'Starts from Mon, Jun 14',\n",
       " 'Starts from Mon, Apr 12',\n",
       " 'Starts from Mon, Apr 5',\n",
       " 'Starts from Thu, Apr 1',\n",
       " 'Starts from Thu, Apr 1',\n",
       " 'Starts from Thu, Apr 8',\n",
       " 'Starts from Thu, Apr 1',\n",
       " 'Starts from Thu, Apr 1',\n",
       " 'Starts from Thu, Apr 1',\n",
       " 'Starts from Wed, Jun 2',\n",
       " 'June 4, 2021',\n",
       " 'June 11, 2021',\n",
       " 'June 18, 2021',\n",
       " 'June 25, 2021',\n",
       " 'May 7, 2021']"
      ]
     },
     "execution_count": 6,
     "metadata": {},
     "output_type": "execute_result"
    }
   ],
   "source": [
    "events"
   ]
  },
  {
   "cell_type": "code",
   "execution_count": 7,
   "metadata": {},
   "outputs": [
    {
     "data": {
      "text/plain": [
       "{'Park_Events': ['BWRC: Afterschool',\n",
       "  'BWRC: Remote (WEDNESDAYS) Full Day',\n",
       "  'County Employee Fitness Classes (Virtual) Mar 22-May 28 2021',\n",
       "  'ERRC: Intro to Disc Golf',\n",
       "  'ERRC: Parking Lot Pickleball',\n",
       "  'ERRC: Specialty Summer Camp Program 2021',\n",
       "  'SVRC: Flip That Workout',\n",
       "  'SVRC: Senior Trivia and Games',\n",
       "  'SVRC: Southview Senior Outdoor Programs',\n",
       "  'SVRC: Southview Virtual Preschool Programs',\n",
       "  'SVRC: Spring Egg Hunt',\n",
       "  'SVRC: Virtual Family Game Night',\n",
       "  'SVRC: Virtual Zumbini',\n",
       "  \"SVRC: What's the Word Wednesdays\",\n",
       "  'TYSC: Table Tennis',\n",
       "  'RCNP: Walk for Wellness',\n",
       "  'RCNP: Walk for Wellness',\n",
       "  'RCNP: Walk for Wellness',\n",
       "  'RCNP: Walk for Wellness',\n",
       "  'RCNP: Walk for Wellness',\n",
       "  'Starts from Mon, Apr 12',\n",
       "  'Starts from Wed, Apr 14',\n",
       "  'Starts from Mon, Mar 22',\n",
       "  'Starts from Mon, Jun 7',\n",
       "  'Starts from Tue, Mar 16',\n",
       "  'Starts from Mon, Jun 14',\n",
       "  'Starts from Mon, Apr 12',\n",
       "  'Starts from Mon, Apr 5',\n",
       "  'Starts from Thu, Apr 1',\n",
       "  'Starts from Thu, Apr 1',\n",
       "  'Starts from Thu, Apr 8',\n",
       "  'Starts from Thu, Apr 1',\n",
       "  'Starts from Thu, Apr 1',\n",
       "  'Starts from Thu, Apr 1',\n",
       "  'Starts from Wed, Jun 2',\n",
       "  'June 4, 2021',\n",
       "  'June 11, 2021',\n",
       "  'June 18, 2021',\n",
       "  'June 25, 2021',\n",
       "  'May 7, 2021']}"
      ]
     },
     "execution_count": 7,
     "metadata": {},
     "output_type": "execute_result"
    }
   ],
   "source": [
    " # Option 1 - Create a dictionary of all above scraped data to facilitate coversion\n",
    "park_event_dict = {\n",
    "    \"Park_Events\": events}\n",
    "\n",
    "park_event_dict"
   ]
  },
  {
   "cell_type": "code",
   "execution_count": 8,
   "metadata": {},
   "outputs": [
    {
     "data": {
      "text/plain": [
       "[{'Park_Events': ['BWRC: Afterschool',\n",
       "   'BWRC: Remote (WEDNESDAYS) Full Day',\n",
       "   'County Employee Fitness Classes (Virtual) Mar 22-May 28 2021',\n",
       "   'ERRC: Intro to Disc Golf',\n",
       "   'ERRC: Parking Lot Pickleball',\n",
       "   'ERRC: Specialty Summer Camp Program 2021',\n",
       "   'SVRC: Flip That Workout',\n",
       "   'SVRC: Senior Trivia and Games',\n",
       "   'SVRC: Southview Senior Outdoor Programs',\n",
       "   'SVRC: Southview Virtual Preschool Programs',\n",
       "   'SVRC: Spring Egg Hunt',\n",
       "   'SVRC: Virtual Family Game Night',\n",
       "   'SVRC: Virtual Zumbini',\n",
       "   \"SVRC: What's the Word Wednesdays\",\n",
       "   'TYSC: Table Tennis',\n",
       "   'RCNP: Walk for Wellness',\n",
       "   'RCNP: Walk for Wellness',\n",
       "   'RCNP: Walk for Wellness',\n",
       "   'RCNP: Walk for Wellness',\n",
       "   'RCNP: Walk for Wellness',\n",
       "   'Starts from Mon, Apr 12',\n",
       "   'Starts from Wed, Apr 14',\n",
       "   'Starts from Mon, Mar 22',\n",
       "   'Starts from Mon, Jun 7',\n",
       "   'Starts from Tue, Mar 16',\n",
       "   'Starts from Mon, Jun 14',\n",
       "   'Starts from Mon, Apr 12',\n",
       "   'Starts from Mon, Apr 5',\n",
       "   'Starts from Thu, Apr 1',\n",
       "   'Starts from Thu, Apr 1',\n",
       "   'Starts from Thu, Apr 8',\n",
       "   'Starts from Thu, Apr 1',\n",
       "   'Starts from Thu, Apr 1',\n",
       "   'Starts from Thu, Apr 1',\n",
       "   'Starts from Wed, Jun 2',\n",
       "   'June 4, 2021',\n",
       "   'June 11, 2021',\n",
       "   'June 18, 2021',\n",
       "   'June 25, 2021',\n",
       "   'May 7, 2021']}]"
      ]
     },
     "execution_count": 8,
     "metadata": {},
     "output_type": "execute_result"
    }
   ],
   "source": [
    "#Option 2 - Create list of dictionaries\n",
    "eventsList = [\n",
    "    {\"Park_Events\": events}\n",
    "]\n",
    "eventsList"
   ]
  },
  {
   "cell_type": "code",
   "execution_count": 9,
   "metadata": {},
   "outputs": [],
   "source": [
    "#Convert to a dataframe\n",
    "parkevents_df = pd.DataFrame({\n",
    "    \"Park_Events\": events})"
   ]
  },
  {
   "cell_type": "code",
   "execution_count": 10,
   "metadata": {},
   "outputs": [],
   "source": [
    "#output to CSV\n",
    "parkevents_df.to_csv(\"parkevents_df.csv\", index=False, header=True)"
   ]
  },
  {
   "cell_type": "code",
   "execution_count": 11,
   "metadata": {},
   "outputs": [],
   "source": [
    "browser.quit()"
   ]
  },
  {
   "cell_type": "code",
   "execution_count": null,
   "metadata": {},
   "outputs": [],
   "source": [
    "#  # Create list to store events for for loop\n",
    "# events = []\n",
    "\n",
    "# for activity in activities:\n",
    "#     title = activity .find('h3').text    \n",
    "    \n",
    "#     events.append(title)"
   ]
  },
  {
   "cell_type": "code",
   "execution_count": null,
   "metadata": {},
   "outputs": [],
   "source": [
    "# datetime = []\n",
    "\n",
    "# for time in times:\n",
    "#     dates = time.find('span').text\n",
    "\n",
    "#     datetime.append(dates)\n",
    "    "
   ]
  }
 ],
 "metadata": {
  "kernelspec": {
   "display_name": "PythonData2",
   "language": "python",
   "name": "pythondata2"
  },
  "language_info": {
   "codemirror_mode": {
    "name": "ipython",
    "version": 3
   },
   "file_extension": ".py",
   "mimetype": "text/x-python",
   "name": "python",
   "nbconvert_exporter": "python",
   "pygments_lexer": "ipython3",
   "version": "3.7.9"
  },
  "varInspector": {
   "cols": {
    "lenName": 16,
    "lenType": 16,
    "lenVar": 40
   },
   "kernels_config": {
    "python": {
     "delete_cmd_postfix": "",
     "delete_cmd_prefix": "del ",
     "library": "var_list.py",
     "varRefreshCmd": "print(var_dic_list())"
    },
    "r": {
     "delete_cmd_postfix": ") ",
     "delete_cmd_prefix": "rm(",
     "library": "var_list.r",
     "varRefreshCmd": "cat(var_dic_list()) "
    }
   },
   "types_to_exclude": [
    "module",
    "function",
    "builtin_function_or_method",
    "instance",
    "_Feature"
   ],
   "window_display": false
  }
 },
 "nbformat": 4,
 "nbformat_minor": 2
}
