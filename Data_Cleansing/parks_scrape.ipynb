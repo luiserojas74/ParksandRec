{
 "cells": [
  {
   "cell_type": "code",
   "execution_count": 1,
   "metadata": {
    "slideshow": {
     "slide_type": "slide"
    }
   },
   "outputs": [],
   "source": [
    "#Import dependencies\n",
    "from bs4 import BeautifulSoup as bs\n",
    "import pandas as pd\n",
    "import requests\n",
    "import pymongo\n",
    "from splinter import Browser\n",
    "from webdriver_manager.chrome import ChromeDriverManager\n",
    "from flask import Flask, render_template, redirect"
   ]
  },
  {
   "cell_type": "code",
   "execution_count": 2,
   "metadata": {
    "scrolled": true,
    "slideshow": {
     "slide_type": "fragment"
    }
   },
   "outputs": [
    {
     "name": "stderr",
     "output_type": "stream",
     "text": [
      "[WDM] - ====== WebDriver manager ======\n",
      "[WDM] - Current google-chrome version is 90.0.4430\n",
      "[WDM] - Get LATEST driver version for 90.0.4430\n"
     ]
    },
    {
     "name": "stdout",
     "output_type": "stream",
     "text": [
      "\n",
      "\n"
     ]
    },
    {
     "name": "stderr",
     "output_type": "stream",
     "text": [
      "[WDM] - Driver [C:\\Users\\ljean\\.wdm\\drivers\\chromedriver\\win32\\90.0.4430.24\\chromedriver.exe] found in cache\n"
     ]
    }
   ],
   "source": [
    "# Setup splinter\n",
    "executable_path = {'executable_path': ChromeDriverManager().install()}\n",
    "browser = Browser('chrome', **executable_path, headless=False)"
   ]
  },
  {
   "cell_type": "code",
   "execution_count": 3,
   "metadata": {},
   "outputs": [],
   "source": [
    "#Pull in data from Charlotte Parks Website\n",
    "url = 'https://anc.apm.activecommunities.com/mecklenburgparks/activity/search?onlineSiteId=0&activity_select_param=2&viewMode=list/'\n",
    "browser.visit(url)"
   ]
  },
  {
   "cell_type": "code",
   "execution_count": null,
   "metadata": {
    "scrolled": true
   },
   "outputs": [],
   "source": [
    "# pull in results to enable easier parsing\n",
    "# html = browser.html\n",
    "# soup = bs(html, 'html.parser')\n",
    "# results = soup.find_all('div', class_='activity-card-info__name')\n",
    "# results"
   ]
  },
  {
   "cell_type": "code",
   "execution_count": 13,
   "metadata": {},
   "outputs": [
    {
     "name": "stdout",
     "output_type": "stream",
     "text": [
      "-----------------------------------------------------------------------\n",
      "BWRC: Afterschool\n",
      "-----------------------------------------------------------------------\n",
      "BWRC: Remote (WEDNESDAYS) Full Day\n",
      "-----------------------------------------------------------------------\n",
      "County Employee Fitness Classes (Virtual) Mar 22-May 28 2021\n",
      "-----------------------------------------------------------------------\n",
      "ERRC: Intro to Disc Golf\n",
      "-----------------------------------------------------------------------\n",
      "ERRC: Parking Lot Pickleball\n",
      "-----------------------------------------------------------------------\n",
      "ERRC: Specialty Summer Camp Program 2021\n",
      "-----------------------------------------------------------------------\n",
      "SVRC: Basketball Skills Clinic\n",
      "-----------------------------------------------------------------------\n",
      "SVRC: Community Recess\n",
      "-----------------------------------------------------------------------\n",
      "SVRC: Flip That Workout\n",
      "-----------------------------------------------------------------------\n",
      "SVRC: Just Golfing Around\n",
      "-----------------------------------------------------------------------\n",
      "SVRC: Senior Trivia and Games\n",
      "-----------------------------------------------------------------------\n",
      "SVRC: Southview Senior Outdoor Programs\n",
      "-----------------------------------------------------------------------\n",
      "SVRC: Southview Virtual Preschool Programs\n",
      "-----------------------------------------------------------------------\n",
      "SVRC: Spring Egg Hunt\n",
      "-----------------------------------------------------------------------\n",
      "SVRC: Virtual Family Game Night\n",
      "-----------------------------------------------------------------------\n",
      "SVRC: Virtual Zumbini\n",
      "-----------------------------------------------------------------------\n",
      "SVRC: What's the Word Wednesdays\n",
      "-----------------------------------------------------------------------\n",
      "SVRC: Wild 'n Out\n",
      "-----------------------------------------------------------------------\n",
      "RCNP: Walk for Wellness\n",
      "-----------------------------------------------------------------------\n",
      "RCNP: Walk for Wellness\n"
     ]
    }
   ],
   "source": [
    "#Create dictionary to store events\n",
    "events_dict = []\n",
    "\n",
    "#Loop through web page to capture events\n",
    "for x in range(0, 1):\n",
    "\n",
    "    html = browser.html\n",
    "    soup = bs(html, 'html.parser')\n",
    "\n",
    "    activities = soup.find_all('div', class_='activity-card-info__name')\n",
    "\n",
    "    for activity in activities:\n",
    "        title = activity .find('h3').text\n",
    "        print('-----------------------------------------------------------------------')\n",
    "        print(title) \n",
    "\n",
    "        events_dict.append(title)\n"
   ]
  },
  {
   "cell_type": "code",
   "execution_count": 14,
   "metadata": {},
   "outputs": [
    {
     "name": "stdout",
     "output_type": "stream",
     "text": [
      "['BWRC: Afterschool', 'BWRC: Remote (WEDNESDAYS) Full Day', 'County Employee Fitness Classes (Virtual) Mar 22-May 28 2021', 'ERRC: Intro to Disc Golf', 'ERRC: Parking Lot Pickleball', 'ERRC: Specialty Summer Camp Program 2021', 'SVRC: Basketball Skills Clinic', 'SVRC: Community Recess', 'SVRC: Flip That Workout', 'SVRC: Just Golfing Around', 'SVRC: Senior Trivia and Games', 'SVRC: Southview Senior Outdoor Programs', 'SVRC: Southview Virtual Preschool Programs', 'SVRC: Spring Egg Hunt', 'SVRC: Virtual Family Game Night', 'SVRC: Virtual Zumbini', \"SVRC: What's the Word Wednesdays\", \"SVRC: Wild 'n Out\", 'RCNP: Walk for Wellness', 'RCNP: Walk for Wellness']\n"
     ]
    }
   ],
   "source": [
    "#Print dictionary to confirm accuracy\n",
    "print(events_dict)"
   ]
  },
  {
   "cell_type": "code",
   "execution_count": 15,
   "metadata": {},
   "outputs": [],
   "source": [
    "#Create a dictionary of all above scraped data to facilitate coversion\n",
    "park_event_dict = {\n",
    "    \"Park_Events\": events_dict}"
   ]
  },
  {
   "cell_type": "code",
   "execution_count": 16,
   "metadata": {},
   "outputs": [
    {
     "data": {
      "text/plain": [
       "{'Park_Events': ['BWRC: Afterschool',\n",
       "  'BWRC: Remote (WEDNESDAYS) Full Day',\n",
       "  'County Employee Fitness Classes (Virtual) Mar 22-May 28 2021',\n",
       "  'ERRC: Intro to Disc Golf',\n",
       "  'ERRC: Parking Lot Pickleball',\n",
       "  'ERRC: Specialty Summer Camp Program 2021',\n",
       "  'SVRC: Basketball Skills Clinic',\n",
       "  'SVRC: Community Recess',\n",
       "  'SVRC: Flip That Workout',\n",
       "  'SVRC: Just Golfing Around',\n",
       "  'SVRC: Senior Trivia and Games',\n",
       "  'SVRC: Southview Senior Outdoor Programs',\n",
       "  'SVRC: Southview Virtual Preschool Programs',\n",
       "  'SVRC: Spring Egg Hunt',\n",
       "  'SVRC: Virtual Family Game Night',\n",
       "  'SVRC: Virtual Zumbini',\n",
       "  \"SVRC: What's the Word Wednesdays\",\n",
       "  \"SVRC: Wild 'n Out\",\n",
       "  'RCNP: Walk for Wellness',\n",
       "  'RCNP: Walk for Wellness']}"
      ]
     },
     "execution_count": 16,
     "metadata": {},
     "output_type": "execute_result"
    }
   ],
   "source": [
    "park_event_dict"
   ]
  },
  {
   "cell_type": "code",
   "execution_count": 17,
   "metadata": {},
   "outputs": [],
   "source": [
    "browser.quit()"
   ]
  }
 ],
 "metadata": {
  "kernelspec": {
   "display_name": "PythonData2",
   "language": "python",
   "name": "pythondata2"
  },
  "language_info": {
   "codemirror_mode": {
    "name": "ipython",
    "version": 3
   },
   "file_extension": ".py",
   "mimetype": "text/x-python",
   "name": "python",
   "nbconvert_exporter": "python",
   "pygments_lexer": "ipython3",
   "version": "3.7.9"
  },
  "varInspector": {
   "cols": {
    "lenName": 16,
    "lenType": 16,
    "lenVar": 40
   },
   "kernels_config": {
    "python": {
     "delete_cmd_postfix": "",
     "delete_cmd_prefix": "del ",
     "library": "var_list.py",
     "varRefreshCmd": "print(var_dic_list())"
    },
    "r": {
     "delete_cmd_postfix": ") ",
     "delete_cmd_prefix": "rm(",
     "library": "var_list.r",
     "varRefreshCmd": "cat(var_dic_list()) "
    }
   },
   "types_to_exclude": [
    "module",
    "function",
    "builtin_function_or_method",
    "instance",
    "_Feature"
   ],
   "window_display": false
  }
 },
 "nbformat": 4,
 "nbformat_minor": 2
}
